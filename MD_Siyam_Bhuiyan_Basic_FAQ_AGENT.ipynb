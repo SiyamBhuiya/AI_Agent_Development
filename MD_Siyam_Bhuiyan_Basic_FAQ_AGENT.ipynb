{
  "nbformat": 4,
  "nbformat_minor": 0,
  "metadata": {
    "colab": {
      "provenance": []
    },
    "kernelspec": {
      "name": "python3",
      "display_name": "Python 3"
    },
    "language_info": {
      "name": "python"
    }
  },
  "cells": [
    {
      "cell_type": "code",
      "execution_count": null,
      "metadata": {
        "colab": {
          "base_uri": "https://localhost:8080/"
        },
        "collapsed": true,
        "id": "pJWpJ7t8k4kp",
        "outputId": "3fb7ba9d-fcfd-46e3-b130-746529ef2b4d"
      },
      "outputs": [
        {
          "output_type": "stream",
          "name": "stdout",
          "text": [
          ]
        }
      ],
      "source": [
        "!pip install openai langchain langchain-community langchain-core"
      ]
    },
    {
      "cell_type": "code",
      "source": [
        "from google.colab import userdata\n",
        "userdata.get('openai-apikey')"
      ],
      "metadata": {
        "colab": {
          "base_uri": "https://localhost:8080/",
          "height": 53
        },
        "collapsed": true,
        "id": "BQzV7vntlDIy",
        "outputId": "f9d7d644-b28c-41b9-de97-f1d9f896fec5"
      },
      "execution_count": null,
      "outputs": [
        {
          "output_type": "execute_result",
          "data": {
            "text/plain": [
              "'"
            ],
            "application/vnd.google.colaboratory.intrinsic+json": {
              "type": "string"
            }
          },
          "metadata": {},
          "execution_count": 2
        }
      ]
    },
    {
      "cell_type": "code",
      "source": [
        "# Import necessary libraries\n",
        "import openai\n",
        "from langchain.chat_models import ChatOpenAI\n",
        "from langchain.prompts import PromptTemplate\n",
        "from langchain.chains import LLMChain\n",
        "\n",
        "# Set up OpenAI API key\n",
        "import os\n",
        "os.environ[\"OPENAI_API_KEY\"] = userdata.get('openai-apikey')  # Replace with your API key\n",
        "\n",
        "# Sample FAQ data on agents and their benefits\n",
        "faq_data = [\n",
        "   {\"question\": \"How do I create an account to play the games?\", \"answer\": \"Click the 'Sign Up' button at the top-right corner of the homepage. Fill in your details, verify your email, and you're ready to start playing.\"},\n",
        "    {\"question\": \"Are the games free to play?\", \"answer\": \"Yes, most of our games are free to play. Some games may offer in-game purchases or premium features.\"},\n",
        "    {\"question\": \"What devices are supported?\", \"answer\": \"Our games work on desktops, laptops, tablets, and most mobile devices. Use the latest browser version for best performance.\"},\n",
        "    {\"question\": \"I’m having trouble loading a game. What should I do?\", \"answer\": \"Try refreshing the page, clearing your browser cache, or switching browsers. If the issue continues, contact support.\"},\n",
        "    {\"question\": \"Can I play with friends online?\", \"answer\": \"Yes! Many of our games support multiplayer. Look for 'Invite Friends' or 'Multiplayer' in the game menu.\"}\n",
        "]\n",
        "\n",
        "faq_string = \"\\n\".join([f\"Q: {item['question']}\\nA: {item['answer']}\" for item in faq_data])\n",
        "# Initialize the GPT-4o mini model\n",
        "chat_model = ChatOpenAI(model=\"gpt-4o-mini\", temperature=0.7)\n",
        "\n",
        "# Create a template for chatbot responses\n",
        "faq_template = PromptTemplate(\n",
        "    input_variables=[\"question\"],\n",
        "    template=\"\"\"You are a helpful AI chatbot for a game website. Use the following FAQ to answer questions. If the question is unrelated to the game website, respond with: \"Please ask a question related to our game website.\"\n",
        "\n",
        "FAQ:\n",
        "{faq_data}\n",
        "\n",
        "Question: {question}\n",
        "Answer:\"\"\"\n",
        ")\n",
        "\n",
        "# Create a chain for handling chatbot interactions\n",
        "faq_chain = LLMChain(\n",
        "    prompt=faq_template,\n",
        "    llm=chat_model\n",
        ")\n",
        "\n",
        "# Function to handle user queries\n",
        "def chatbot():\n",
        "    print(\"Welcome to the Game Website FAQ Chatbot! Ask me anything about the games. Type 'exit' to stop.\")\n",
        "    while True:\n",
        "        user_input = input(\"You: \")\n",
        "        if user_input.lower() == 'exit':\n",
        "            print(\"Goodbye!\")\n",
        "            break\n",
        "        response = faq_chain.run({\"question\": user_input, \"faq_data\": faq_data})\n",
        "        print(\"Bot:\", response)\n",
        "\n",
        "# Run the chatbot in Colab\n",
        "display(chatbot())"
      ],
      "metadata": {
        "colab": {
          "base_uri": "https://localhost:8080/",
          "height": 191
        },
        "id": "MCpGSjQklLNW",
        "outputId": "01a241af-cdc8-404e-fe54-dc7b5b065d87"
      },
      "execution_count": null,
      "outputs": [
        {
          "output_type": "stream",
          "name": "stdout",
          "text": [
            "Welcome to the Game Website FAQ Chatbot! Ask me anything about the games. Type 'exit' to stop.\n",
            "You: What is the capital of Bangladesh\n",
            "Bot: Please ask a question related to our game website.\n",
            "You: I’m having trouble loading a game. What should I do?\n",
            "Bot: Try refreshing the page, clearing your browser cache, or switching browsers. If the issue continues, contact support.\n",
            "You: What devices are supported?\n",
            "Bot: Our games work on desktops, laptops, tablets, and most mobile devices. Use the latest browser version for best performance.\n",
            "You: exit\n",
            "Goodbye!\n"
          ]
        },
        {
          "output_type": "display_data",
          "data": {
            "text/plain": [
              "None"
            ]
          },
          "metadata": {}
        }
      ]
    }
  ]
}
